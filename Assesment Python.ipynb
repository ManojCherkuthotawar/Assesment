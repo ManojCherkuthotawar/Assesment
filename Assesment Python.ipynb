{
 "cells": [
  {
   "cell_type": "code",
   "execution_count": 8,
   "id": "c6b5f21b-4bfc-4524-adc7-55413751f3de",
   "metadata": {},
   "outputs": [
    {
     "name": "stdout",
     "output_type": "stream",
     "text": [
      "False\n"
     ]
    }
   ],
   "source": [
    "# 1. Check if a given string is a palindrome.\n",
    "\n",
    "M = \"Manoj\"\n",
    "is_palindrome = M == M[::-1]\n",
    "print(is_palindrome)"
   ]
  },
  {
   "cell_type": "code",
   "execution_count": 30,
   "id": "01c1090b-149d-44f2-9927-ebccb9ad2562",
   "metadata": {},
   "outputs": [
    {
     "name": "stdout",
     "output_type": "stream",
     "text": [
      "['a', 'o']\n"
     ]
    }
   ],
   "source": [
    "# 2. Count the number of vowels in a string and store the result in a dictionary.\n",
    "\n",
    "M = \"Manoj\"\n",
    "vowels = \"aeiouAEIOU\"\n",
    "Vowels_C = []\n",
    "\n",
    "for i in M:\n",
    "    if i in vowels:\n",
    "        Vowels_C.append(i)\n",
    "\n",
    "print(Vowels_C)"
   ]
  },
  {
   "cell_type": "code",
   "execution_count": 32,
   "id": "3badf76f-8034-4caf-b90f-40e86a336d37",
   "metadata": {},
   "outputs": [
    {
     "name": "stdout",
     "output_type": "stream",
     "text": [
      "My Name Is Manoj\n"
     ]
    }
   ],
   "source": [
    "#  3. Convert the first letter of each word in a string to uppercase (title case manually).\n",
    "\n",
    "M = \"MY name is Manoj\"\n",
    "Manoj = ' '.join(word.capitalize() for word in M.split())\n",
    "print(Manoj)\n"
   ]
  },
  {
   "cell_type": "code",
   "execution_count": 52,
   "id": "082a56e5-4d2f-4114-b17f-a30b85623116",
   "metadata": {},
   "outputs": [
    {
     "name": "stdout",
     "output_type": "stream",
     "text": [
      "Most frequent character: M\n"
     ]
    }
   ],
   "source": [
    "# 4. Find the most frequently occurring character in a string.\n",
    "\n",
    "M = \"Manoj\"\n",
    "freq = {}\n",
    "\n",
    "for i in M:\n",
    "    freq[i] = freq.get(i, 0) + 1\n",
    "\n",
    "most_frequent = max(freq, key=freq.get)\n",
    "print(\"Most frequent character:\", most_frequent)\n"
   ]
  },
  {
   "cell_type": "code",
   "execution_count": 58,
   "id": "991fc8fb-2ef8-4af1-958c-c54f909b4fb5",
   "metadata": {},
   "outputs": [
    {
     "name": "stdout",
     "output_type": "stream",
     "text": [
      "Alphabets: 5, Digits: 2, Special Characters: 1\n"
     ]
    }
   ],
   "source": [
    "# 5. Count digits, alphabets, and special characters in a string\n",
    "\n",
    "M = \"Manoj@69\"\n",
    "digits = 0\n",
    "alphabets = 0\n",
    "special = 0\n",
    "for i in M:\n",
    "    if i.isdigit():\n",
    "        digits += 1\n",
    "    elif i.isalpha():\n",
    "        alphabets += 1\n",
    "    else:\n",
    "        special += 1\n",
    "\n",
    "print(f\"Alphabets: {alphabets}, Digits: {digits}, Special Characters: {special}\")\n"
   ]
  },
  {
   "cell_type": "code",
   "execution_count": 62,
   "id": "af53ce5c-f74f-4aba-ab0b-b47d3c9726ee",
   "metadata": {},
   "outputs": [
    {
     "name": "stdout",
     "output_type": "stream",
     "text": [
      "[6, 9, 69]\n"
     ]
    }
   ],
   "source": [
    "# 2. List (5 Questions)\n",
    "# 6. Remove duplicate elements from a list without using set() \n",
    "\n",
    "Manoj = [6, 9, 6, 9, 6, 9, 69]\n",
    "unique = []\n",
    "for i in Manoj:\n",
    "    if i not in unique:\n",
    "        unique.append(i)\n",
    "print(unique)\n"
   ]
  },
  {
   "cell_type": "code",
   "execution_count": 70,
   "id": "da455521-31a5-45c4-8e70-f04d9fb97065",
   "metadata": {},
   "outputs": [
    {
     "name": "stdout",
     "output_type": "stream",
     "text": [
      "[69, 9, 6, 9, 6]\n"
     ]
    }
   ],
   "source": [
    "# 7. Reverse a list without using built-in functions\n",
    "\n",
    "Manoj = [6, 9, 6, 9, 69]\n",
    "Manoj_list = []\n",
    "for i in range(len(Manoj)-1, -1, -1):\n",
    "    Manoj_list.append(Manoj[i])\n",
    "print(Manoj_list)\n"
   ]
  },
  {
   "cell_type": "code",
   "execution_count": 76,
   "id": "28dcbf6c-d926-4875-9be2-bde21a2372a2",
   "metadata": {},
   "outputs": [
    {
     "name": "stdout",
     "output_type": "stream",
     "text": [
      "2nd Smallest: 9\n",
      "2nd Largest: 9\n"
     ]
    }
   ],
   "source": [
    "# 8. Find the 2nd largest and 2nd smallest element in a list\n",
    "\n",
    "Manoj = [6, 9, 6, 9, 69]\n",
    "Manoj_list = sorted(set(Manoj))  \n",
    "Manoj_small = Manoj_list[1]\n",
    "Manoj_large = Manoj_list[-2]\n",
    "print(\"2nd Smallest:\", Manoj_small)\n",
    "print(\"2nd Largest:\", Manoj_large)\n"
   ]
  },
  {
   "cell_type": "code",
   "execution_count": 82,
   "id": "96f80cbf-5b5a-40a7-ad8f-2c7ca4c242fc",
   "metadata": {},
   "outputs": [
    {
     "name": "stdout",
     "output_type": "stream",
     "text": [
      "[1, 4, 9, 16]\n"
     ]
    }
   ],
   "source": [
    "# 9. Store the square of each element using list comprehension\n",
    "\n",
    "Manoj = [1, 2, 3, 4]\n",
    "squares = [i**2 for i in Manoj]\n",
    "print(squares)\n"
   ]
  },
  {
   "cell_type": "code",
   "execution_count": 84,
   "id": "f6c384ed-0c2e-4dbc-8cbb-a73ffc7911d7",
   "metadata": {},
   "outputs": [
    {
     "name": "stdout",
     "output_type": "stream",
     "text": [
      "[1, 2, 3, 4, 5]\n"
     ]
    }
   ],
   "source": [
    "# 10. Flatten a nested list\n",
    "\n",
    "Manoj = [[1, 2], [3, 4], [5]]\n",
    "flat = [i for j in Manoj for i in j]\n",
    "print(flat)\n"
   ]
  },
  {
   "cell_type": "code",
   "execution_count": 90,
   "id": "395a0760-f785-4030-90e5-09a48c9bdb8a",
   "metadata": {},
   "outputs": [
    {
     "name": "stdout",
     "output_type": "stream",
     "text": [
      "(9, 6, 9, 6)\n"
     ]
    }
   ],
   "source": [
    "# 3. Tuple (5 Questions)\n",
    "# 11. Reverse a tuple without [::-1]\n",
    "\n",
    "M = (6, 9, 6, 9)\n",
    "reversed_M = tuple(reversed(M))\n",
    "print(reversed_M)\n"
   ]
  },
  {
   "cell_type": "code",
   "execution_count": 92,
   "id": "b03e8fc9-923b-4b0f-8052-aaf5e7d6e842",
   "metadata": {},
   "outputs": [
    {
     "name": "stdout",
     "output_type": "stream",
     "text": [
      "[1, 2, 3, 4]\n"
     ]
    }
   ],
   "source": [
    "# 12. Extract unique elements from a tuple\n",
    "\n",
    "M = (1, 2, 2, 3, 4, 4)\n",
    "unique = []\n",
    "for i in M:\n",
    "    if i not in unique:\n",
    "        unique.append(i)\n",
    "print(unique)\n"
   ]
  },
  {
   "cell_type": "code",
   "execution_count": 94,
   "id": "5af2dcd5-93d0-48aa-b38b-078e04dd5104",
   "metadata": {},
   "outputs": [
    {
     "name": "stdout",
     "output_type": "stream",
     "text": [
      "(1, 2, 3, 4, 5)\n"
     ]
    }
   ],
   "source": [
    "# 13. Concatenate two tuples and sort them\n",
    "\n",
    "M1 = (3, 1, 4)\n",
    "M2 = (2, 5)\n",
    "Add = M1 + M2\n",
    "sorted_tuple = tuple(sorted(Add))\n",
    "print(sorted_tuple)\n"
   ]
  },
  {
   "cell_type": "code",
   "execution_count": 98,
   "id": "163a1336-ef0f-4b05-9671-a76935faf364",
   "metadata": {},
   "outputs": [
    {
     "name": "stdout",
     "output_type": "stream",
     "text": [
      "3\n"
     ]
    }
   ],
   "source": [
    "# 14. Count frequency of an element without using count()\n",
    "\n",
    "M = (1, 2, 2, 3, 2, 4)\n",
    "element = 2\n",
    "count = 0\n",
    "for i in M:\n",
    "    if i == element:\n",
    "        count += 1\n",
    "print(count)\n"
   ]
  },
  {
   "cell_type": "code",
   "execution_count": 106,
   "id": "c787f53d-09c4-402b-bda8-7f7b643b8520",
   "metadata": {},
   "outputs": [
    {
     "name": "stdout",
     "output_type": "stream",
     "text": [
      "Even: (2, 4, 6)\n",
      "Odd: (1, 3, 5)\n"
     ]
    }
   ],
   "source": [
    "# 15. Separate even and odd numbers into two tuples\n",
    "\n",
    "M= (1, 2, 3, 4, 5, 6)\n",
    "even = tuple([i for i in M if i % 2 == 0])\n",
    "odd = tuple([i for i in M if i % 2 != 0])\n",
    "print(\"Even:\", even)\n",
    "print(\"Odd:\", odd)\n"
   ]
  },
  {
   "cell_type": "code",
   "execution_count": 108,
   "id": "3007b135-8462-452d-bb94-c9ade2b8afcb",
   "metadata": {},
   "outputs": [
    {
     "name": "stdout",
     "output_type": "stream",
     "text": [
      "Union: {1, 2, 3, 4}\n",
      "Intersection: {2, 3}\n",
      "Difference: {1}\n"
     ]
    }
   ],
   "source": [
    "# 4. Set (5 Questions)\n",
    "# 16. Union, intersection, and difference without operators\n",
    "\n",
    "a = {1, 2, 3}\n",
    "b = {2, 3, 4}\n",
    "\n",
    "union = a.copy()\n",
    "for i in b:\n",
    "    union.add(i)\n",
    "\n",
    "intersection = set()\n",
    "for i in a:\n",
    "    if i in b:\n",
    "        intersection.add(i)\n",
    "\n",
    "difference = set()\n",
    "for i in a:\n",
    "    if i not in b:\n",
    "        difference.add(i)\n",
    "\n",
    "print(\"Union:\", union)\n",
    "print(\"Intersection:\", intersection)\n",
    "print(\"Difference:\", difference)\n"
   ]
  },
  {
   "cell_type": "code",
   "execution_count": 114,
   "id": "f53fd0ba-0667-4e04-9d7a-7f1687f174e3",
   "metadata": {},
   "outputs": [
    {
     "name": "stdout",
     "output_type": "stream",
     "text": [
      "Removed: 2\n",
      "Remaining: {1, 3, 4}\n"
     ]
    }
   ],
   "source": [
    "# 17. Remove a random element from a set without pop()\n",
    "\n",
    "import random\n",
    "M = {1, 2, 3, 4}\n",
    "random_element = random.choice(list(M))\n",
    "M.remove(random_element)\n",
    "print(\"Removed:\", random_element)\n",
    "print(\"Remaining:\", M)\n"
   ]
  },
  {
   "cell_type": "code",
   "execution_count": 122,
   "id": "239b3ea3-c15d-4d24-bd23-e2c0f59f7e69",
   "metadata": {},
   "outputs": [
    {
     "name": "stdout",
     "output_type": "stream",
     "text": [
      "{9, 6}\n"
     ]
    }
   ],
   "source": [
    "# 18. Convert a list to set and check if duplicates are removed\n",
    "\n",
    "Manoj = [6, 9, 6, 9]\n",
    "s = set(Manoj)\n",
    "\n",
    "print(s)\n"
   ]
  },
  {
   "cell_type": "code",
   "execution_count": 128,
   "id": "47282b61-46b6-4aae-a1bb-a38043e7f501",
   "metadata": {},
   "outputs": [
    {
     "name": "stdout",
     "output_type": "stream",
     "text": [
      "Disjoint True\n"
     ]
    }
   ],
   "source": [
    "# 19. Check if two sets are disjoint\n",
    "\n",
    "a = {1, 2}\n",
    "b = {3, 4}\n",
    "disjoint = True\n",
    "for i in a:\n",
    "    if i in b:\n",
    "        disjoint = False\n",
    "        \n",
    "print(\"Disjoint\", disjoint)\n"
   ]
  },
  {
   "cell_type": "code",
   "execution_count": 138,
   "id": "7ae9dac2-abd6-4abe-9321-bc9245fa909d",
   "metadata": {},
   "outputs": [
    {
     "name": "stdout",
     "output_type": "stream",
     "text": [
      "Sum: 15\n"
     ]
    }
   ],
   "source": [
    "# 20. Find sum of all elements in a set\n",
    "\n",
    "M= {6, 9, 6, 9}\n",
    "total = 0\n",
    "for i in M:\n",
    "    total += i\n",
    "print(\"Sum:\", total)\n"
   ]
  },
  {
   "cell_type": "code",
   "execution_count": 9,
   "id": "e2863411-6eae-4111-9807-c75b504165d5",
   "metadata": {},
   "outputs": [
    {
     "name": "stdout",
     "output_type": "stream",
     "text": [
      "M1\n",
      "M2\n",
      "M3\n"
     ]
    }
   ],
   "source": [
    "# 5. Dictionary (5 Questions)\n",
    "# 21. Create a dictionary and print keys in ascending order\n",
    "\n",
    "M = {'M3': 69, 'M2': 9, 'M1': 6}\n",
    "for key in sorted(M):\n",
    "    print(key)"
   ]
  },
  {
   "cell_type": "code",
   "execution_count": 140,
   "id": "3ba7e2ef-dd61-4dc4-9d12-4d72b27c3758",
   "metadata": {},
   "outputs": [
    {
     "name": "stdout",
     "output_type": "stream",
     "text": [
      "{'M1': 6, 'M2': 9, 'M3': 69, 'total': 84}\n"
     ]
    }
   ],
   "source": [
    "# 22. Add a new key with value = sum of existing values\n",
    "\n",
    "M = {'M1': 6, 'M2': 9, 'M3': 69}\n",
    "M['total'] = sum(M.values())\n",
    "print(M)\n"
   ]
  },
  {
   "cell_type": "code",
   "execution_count": 142,
   "id": "1ccda4e1-4c95-457e-ae71-2145d4b0b17d",
   "metadata": {},
   "outputs": [
    {
     "name": "stdout",
     "output_type": "stream",
     "text": [
      "{'M11': 6, 'M22': 9, 'M33': 69}\n"
     ]
    }
   ],
   "source": [
    "# 23. Merge two dictionaries\n",
    "\n",
    "M1 = {'M11': 6, 'M22': 9}\n",
    "M2 = {'M33': 69}\n",
    "merged = M1.copy()\n",
    "merged.update(M2)\n",
    "print(merged)\n",
    "\n"
   ]
  },
  {
   "cell_type": "code",
   "execution_count": 148,
   "id": "26d63c50-6a55-41ac-b336-b80d1d81c6d6",
   "metadata": {},
   "outputs": [
    {
     "name": "stdout",
     "output_type": "stream",
     "text": [
      "c\n"
     ]
    }
   ],
   "source": [
    "# 24. Find the key with the largest value\n",
    "\n",
    "M = {'a': 6, 'b': 9, 'c': 69}\n",
    "max_key = max(M, key=M.get)\n",
    "print(max_key)\n"
   ]
  },
  {
   "cell_type": "code",
   "execution_count": null,
   "id": "736d02b8-fb68-458f-a2ca-35f07e0f92fb",
   "metadata": {},
   "outputs": [],
   "source": []
  }
 ],
 "metadata": {
  "kernelspec": {
   "display_name": "Python [conda env:base] *",
   "language": "python",
   "name": "conda-base-py"
  },
  "language_info": {
   "codemirror_mode": {
    "name": "ipython",
    "version": 3
   },
   "file_extension": ".py",
   "mimetype": "text/x-python",
   "name": "python",
   "nbconvert_exporter": "python",
   "pygments_lexer": "ipython3",
   "version": "3.12.7"
  }
 },
 "nbformat": 4,
 "nbformat_minor": 5
}
